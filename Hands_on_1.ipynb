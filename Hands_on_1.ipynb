{
  "nbformat": 4,
  "nbformat_minor": 0,
  "metadata": {
    "colab": {
      "provenance": [],
      "authorship_tag": "ABX9TyNc9PCUDppGYpTm8zfCs5eq",
      "include_colab_link": true
    },
    "kernelspec": {
      "name": "python3",
      "display_name": "Python 3"
    },
    "language_info": {
      "name": "python"
    }
  },
  "cells": [
    {
      "cell_type": "markdown",
      "metadata": {
        "id": "view-in-github",
        "colab_type": "text"
      },
      "source": [
        "<a href=\"https://colab.research.google.com/github/JamandreJanNathan/58002_OOP/blob/main/Hands_on_1.ipynb\" target=\"_parent\"><img src=\"https://colab.research.google.com/assets/colab-badge.svg\" alt=\"Open In Colab\"/></a>"
      ]
    },
    {
      "cell_type": "code",
      "execution_count": 72,
      "metadata": {
        "colab": {
          "base_uri": "https://localhost:8080/"
        },
        "id": "NToDRl57_E-V",
        "outputId": "54c5ddb3-958f-4da9-f168-726da27add54"
      },
      "outputs": [
        {
          "output_type": "stream",
          "name": "stdout",
          "text": [
            "Student 1 has 73 for prelims, 66 for midterms, and 70 for finals with an avererage of 69.66666666666667\n",
            "Student 2 has 83 for prelims, 75 for midterms, and 67 for finals with an avererage of 75.0\n",
            "Student 3 has 89 for prelims, 76 for midterms, and 75 for finals with an avererage of 80.0\n"
          ]
        }
      ],
      "source": [
        "\n",
        "\n",
        "\n",
        "class Person:\n",
        "  def __init__(attr,student):\n",
        "    attr.student = student\n",
        "    import random\n",
        "    attr.__pre = random.randint(65, 99)\n",
        "    attr.__mid = random.randint(65, 99)\n",
        "    attr.__fin = random.randint(65, 99)\n",
        "  def Grade(attr):\n",
        "    return (attr.__pre+attr.__mid+attr.__fin)/3\n",
        "  def display(attr):\n",
        "    print(f\"{attr.student} has {attr.__pre} for prelims, {attr.__mid} for midterms, and {attr.__fin} for finals with an avererage of {attr.Grade()}\")\n",
        "\n",
        "class std1(Person):\n",
        "  def __init__(attr):\n",
        "    super().__init__(\"Student 1\")\n",
        "\n",
        "class std2(Person):\n",
        "  def __init__(attr):\n",
        "    super().__init__(\"Student 2\")\n",
        "\n",
        "class std3(Person):\n",
        "  def __init__(attr):\n",
        "    super().__init__(\"Student 3\")\n",
        "\n",
        "Std1 = std1()\n",
        "Std2 = std2()\n",
        "Std3 = std3()\n",
        "\n",
        "Std1.display()\n",
        "Std2.display()\n",
        "Std3.display()"
      ]
    }
  ]
}