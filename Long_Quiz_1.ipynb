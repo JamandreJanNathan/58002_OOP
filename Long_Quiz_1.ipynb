{
  "nbformat": 4,
  "nbformat_minor": 0,
  "metadata": {
    "colab": {
      "provenance": [],
      "authorship_tag": "ABX9TyOiCUV+if52anXLTtmyv1g+",
      "include_colab_link": true
    },
    "kernelspec": {
      "name": "python3",
      "display_name": "Python 3"
    },
    "language_info": {
      "name": "python"
    }
  },
  "cells": [
    {
      "cell_type": "markdown",
      "metadata": {
        "id": "view-in-github",
        "colab_type": "text"
      },
      "source": [
        "<a href=\"https://colab.research.google.com/github/JamandreJanNathan/58002_OOP/blob/main/Long_Quiz_1.ipynb\" target=\"_parent\"><img src=\"https://colab.research.google.com/assets/colab-badge.svg\" alt=\"Open In Colab\"/></a>"
      ]
    },
    {
      "cell_type": "code",
      "execution_count": 25,
      "metadata": {
        "colab": {
          "base_uri": "https://localhost:8080/"
        },
        "id": "f1zc-GgN2S6g",
        "outputId": "ed0553b9-a7d0-4ae0-d479-54b923c016bc"
      },
      "outputs": [
        {
          "output_type": "stream",
          "name": "stdout",
          "text": [
            "erdnamaJ .J nahtaN naJ\n"
          ]
        }
      ],
      "source": [
        "name = \"Jan Nathan J. Jamandre\"\n",
        "rvsname = \"\"\n",
        "for x in range(len(name) - 1, -1, -1):\n",
        "  rvsname += name[x]\n",
        "\n",
        "print(rvsname)"
      ]
    },
    {
      "cell_type": "code",
      "source": [
        "def is_prime(n):\n",
        "\n",
        "  if n <= 1:\n",
        "    return False\n",
        "  for i in range(2, int(n**0.5) + 1):\n",
        "    if n % i == 0:\n",
        "      return False\n",
        "  return True\n",
        "\n",
        "\n",
        "for i in range(1, 11):\n",
        "  if is_prime(i):\n",
        "    print(i, \"is prime \")\n",
        "  else:\n",
        "    print(i, \"is composite\")"
      ],
      "metadata": {
        "colab": {
          "base_uri": "https://localhost:8080/"
        },
        "id": "KYzcNlPy70UP",
        "outputId": "39f13b1e-fd4c-41a1-ee59-94849ecf2651"
      },
      "execution_count": 23,
      "outputs": [
        {
          "output_type": "stream",
          "name": "stdout",
          "text": [
            "1 is composite\n",
            "2 is prime \n",
            "3 is prime \n",
            "4 is composite\n",
            "5 is prime \n",
            "6 is composite\n",
            "7 is prime \n",
            "8 is composite\n",
            "9 is composite\n",
            "10 is composite\n"
          ]
        }
      ]
    }
  ]
}