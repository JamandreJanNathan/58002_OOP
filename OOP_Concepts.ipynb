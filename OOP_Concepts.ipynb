{
  "nbformat": 4,
  "nbformat_minor": 0,
  "metadata": {
    "colab": {
      "provenance": [],
      "authorship_tag": "ABX9TyMxnuy5W+9gm7RJcKcvGNM1",
      "include_colab_link": true
    },
    "kernelspec": {
      "name": "python3",
      "display_name": "Python 3"
    },
    "language_info": {
      "name": "python"
    }
  },
  "cells": [
    {
      "cell_type": "markdown",
      "metadata": {
        "id": "view-in-github",
        "colab_type": "text"
      },
      "source": [
        "<a href=\"https://colab.research.google.com/github/JamandreJanNathan/58002_OOP/blob/main/OOP_Concepts.ipynb\" target=\"_parent\"><img src=\"https://colab.research.google.com/assets/colab-badge.svg\" alt=\"Open In Colab\"/></a>"
      ]
    },
    {
      "cell_type": "code",
      "execution_count": 7,
      "metadata": {
        "colab": {
          "base_uri": "https://localhost:8080/"
        },
        "id": "U4dimKb4KkWq",
        "outputId": "4bdaf8e6-904f-4c02-b98b-b6bd1903532d"
      },
      "outputs": [
        {
          "output_type": "stream",
          "name": "stdout",
          "text": [
            "Hello, my name is Maria Rizette Sayo 40 Adamson University\n"
          ]
        }
      ],
      "source": [
        "\n",
        "\n",
        "class Persons:\n",
        "  def __init__(self,name,age,school):\n",
        "    self.name = name\n",
        "    self.age = age\n",
        "    self.school = school\n",
        "\n",
        "  def myfunction(self):\n",
        "    print(\"Hello, my name is\", self.name, self.age, self.school)\n",
        "\n",
        "people = Persons(\"Maria Rizette Sayo\",40,\"Adamson University\")\n",
        "people.myfunction()"
      ]
    }
  ]
}