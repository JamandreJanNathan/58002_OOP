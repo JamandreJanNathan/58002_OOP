{
  "nbformat": 4,
  "nbformat_minor": 0,
  "metadata": {
    "colab": {
      "provenance": [],
      "authorship_tag": "ABX9TyNKJvOCV6ZkiReyuELL60jv",
      "include_colab_link": true
    },
    "kernelspec": {
      "name": "python3",
      "display_name": "Python 3"
    },
    "language_info": {
      "name": "python"
    }
  },
  "cells": [
    {
      "cell_type": "markdown",
      "metadata": {
        "id": "view-in-github",
        "colab_type": "text"
      },
      "source": [
        "<a href=\"https://colab.research.google.com/github/JamandreJanNathan/58002_OOP/blob/main/OOP_concepts2.ipynb\" target=\"_parent\"><img src=\"https://colab.research.google.com/assets/colab-badge.svg\" alt=\"Open In Colab\"/></a>"
      ]
    },
    {
      "cell_type": "code",
      "execution_count": 4,
      "metadata": {
        "colab": {
          "base_uri": "https://localhost:8080/",
          "height": 131
        },
        "id": "e2f8fLcWETbX",
        "outputId": "73db4282-32ff-433d-f770-41327f7cdcc2"
      },
      "outputs": [
        {
          "output_type": "error",
          "ename": "IndentationError",
          "evalue": "ignored",
          "traceback": [
            "\u001b[0;36m  File \u001b[0;32m\"<tokenize>\"\u001b[0;36m, line \u001b[0;32m5\u001b[0m\n\u001b[0;31m    triangle = Shapes('triangle 3 sides')\u001b[0m\n\u001b[0m    ^\u001b[0m\n\u001b[0;31mIndentationError\u001b[0m\u001b[0;31m:\u001b[0m unindent does not match any outer indentation level\n"
          ]
        }
      ],
      "source": [
        "class Shapes():\n",
        "    def __init__(self, shapes):\n",
        "        self.sides = shapes\n",
        "\n",
        " triangle = Shapes('triangle 3 sides')\n",
        " square = Shapes('square 4 sides')\n",
        "\n",
        " print(triangle.sides)\n",
        " print(square.sides)"
      ]
    },
    {
      "cell_type": "code",
      "source": [
        "class Shapes:\n",
        "\n",
        "    def __init__(self, sides):\n",
        "\n",
        "        self.sides = sides\n",
        "\n",
        "triangle = Shapes('Triange 3 sides')\n",
        "square = Shapes('Square 4 sides')\n",
        "\n",
        "print(triangle.sides)\n",
        "print(square.sides)"
      ],
      "metadata": {
        "colab": {
          "base_uri": "https://localhost:8080/"
        },
        "id": "n6_jz5UoHDAS",
        "outputId": "d53ffac6-451f-47ad-d6cc-4ed1bce8d445"
      },
      "execution_count": 8,
      "outputs": [
        {
          "output_type": "stream",
          "name": "stdout",
          "text": [
            "Triange 3 sides\n",
            "Square 4 sides\n"
          ]
        }
      ]
    }
  ]
}